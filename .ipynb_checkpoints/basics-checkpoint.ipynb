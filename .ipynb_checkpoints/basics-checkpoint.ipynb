{
 "cells": [
  {
   "cell_type": "code",
   "execution_count": 1,
   "id": "951221f1-4ce8-4a40-8e1e-ac3382e76219",
   "metadata": {},
   "outputs": [
    {
     "name": "stdout",
     "output_type": "stream",
     "text": [
      "<class 'int'> <class 'str'> <class 'bool'>\n"
     ]
    }
   ],
   "source": [
    "a = 5\n",
    "b = \"hello\"\n",
    "c = True\n",
    "\n",
    "print(type(a), type(b), type(c))"
   ]
  },
  {
   "cell_type": "code",
   "execution_count": 6,
   "id": "d81efa5c-332e-484c-b1ba-3045a7f16e56",
   "metadata": {},
   "outputs": [
    {
     "data": {
      "text/plain": [
       "176.71458676442586"
      ]
     },
     "execution_count": 6,
     "metadata": {},
     "output_type": "execute_result"
    }
   ],
   "source": [
    "import math\n",
    "circle = math.pi * (7.5**2)\n",
    "circle"
   ]
  },
  {
   "cell_type": "code",
   "execution_count": 7,
   "id": "78d6a806-4a42-4458-a72e-b53b69a6dd0c",
   "metadata": {},
   "outputs": [
    {
     "name": "stdout",
     "output_type": "stream",
     "text": [
      "True False\n"
     ]
    }
   ],
   "source": [
    "print((10 > 5), (5 < 2))"
   ]
  },
  {
   "cell_type": "code",
   "execution_count": 13,
   "id": "367e5149-fe35-4112-8b76-97f546165ab3",
   "metadata": {},
   "outputs": [
    {
     "name": "stdout",
     "output_type": "stream",
     "text": [
      "False True False\n"
     ]
    }
   ],
   "source": [
    "a = True and False\n",
    "b = True or False\n",
    "c = not(True or False)\n",
    "\n",
    "print(a, b, c)\n"
   ]
  },
  {
   "cell_type": "code",
   "execution_count": 19,
   "id": "c2d22ee8-acf6-4cf2-a5c3-1459b02ef00d",
   "metadata": {},
   "outputs": [
    {
     "name": "stdout",
     "output_type": "stream",
     "text": [
      "False False\n"
     ]
    }
   ],
   "source": [
    "a = 8\n",
    "print((a>10 and a%2==0), (a<10 and a%2!=0))"
   ]
  },
  {
   "cell_type": "code",
   "execution_count": 32,
   "id": "5b6d54bd-4143-4458-9006-6f59423cdce0",
   "metadata": {},
   "outputs": [
    {
     "name": "stdout",
     "output_type": "stream",
     "text": [
      "13\n",
      "False\n",
      "the greater is 88\n"
     ]
    },
    {
     "data": {
      "text/plain": [
       "88"
      ]
     },
     "execution_count": 32,
     "metadata": {},
     "output_type": "execute_result"
    }
   ],
   "source": [
    "print(3 + 5 * 2)\n",
    "a = 88\n",
    "b = 12\n",
    "print(a == b)\n",
    "\n",
    "if a>b:\n",
    "    print(f'the greater is {a}')\n",
    "else:\n",
    "    print(f'the greater is {b}')\n",
    "\n",
    "maxe = sorted([a,b])[-1]\n",
    "maxe"
   ]
  },
  {
   "cell_type": "code",
   "execution_count": 40,
   "id": "ebac7528-363d-4d55-866e-e8c51504f36d",
   "metadata": {},
   "outputs": [
    {
     "name": "stdout",
     "output_type": "stream",
     "text": [
      "Zero\n",
      "Fail\n"
     ]
    }
   ],
   "source": [
    "'''o\tPrints \"Positive\" if the number is greater than 0.\n",
    "o\tPrints \"Negative\" if the number is less than 0.\n",
    "o\tPrints \"Zero\" otherwise.\n",
    "'''\n",
    "numb = 0\n",
    "if numb > 0:\n",
    "    print(\"Positive\")\n",
    "elif numb < 0:\n",
    "    print(\"Negative\")\n",
    "else:\n",
    "    print(\"Zero\")\n",
    "\n",
    "\n",
    "score = 2\n",
    "if score >= 90:\n",
    "    print(\"A\")\n",
    "elif score >= 80 and score <= 89:\n",
    "    print(\"B\")\n",
    "else:\n",
    "    print(\"Fail\")"
   ]
  },
  {
   "cell_type": "code",
   "execution_count": 72,
   "id": "2ff121e3-5e2f-4fba-a715-7d6ace721050",
   "metadata": {},
   "outputs": [
    {
     "name": "stdout",
     "output_type": "stream",
     "text": [
      "1\n",
      "2\n",
      "3\n",
      "4\n",
      "5\n",
      "6\n",
      "7\n",
      "8\n",
      "9\n",
      "10\n",
      "55\n",
      "5\n",
      "3\n",
      "1\n",
      "15\n"
     ]
    }
   ],
   "source": [
    "'''\n",
    "1.\tWrite a for loop to print numbers from 1 to 10.\n",
    "2.\tWrite a while loop to compute the sum of numbers from 1 to 50.\n",
    "3.\tUse a loop to print the factorial of a given number.\n",
    "'''\n",
    "for i in range(1,11):\n",
    "    print(i)\n",
    "    suma = 0\n",
    "for i in range(1,11):\n",
    "    suma += i\n",
    "print(suma)\n",
    "number = 5\n",
    "suma2 = 1\n",
    "for i in range(number, 0, -2):\n",
    "    print(i)\n",
    "    suma2 *= i\n",
    "print(suma2)"
   ]
  },
  {
   "cell_type": "code",
   "execution_count": 102,
   "id": "ea08a45b-78f0-49c1-b4d1-b9d3d05b9bfb",
   "metadata": {},
   "outputs": [
    {
     "name": "stdout",
     "output_type": "stream",
     "text": [
      "1 5\n",
      "('apple', 'none', 'cherry')\n",
      "sabal\n"
     ]
    }
   ],
   "source": [
    "'''\n",
    "1.\tCreate a list of five numbers. Print the first and last element.\n",
    "2.\tWrite a program to:\n",
    "o\tCreate a tuple with three items (e.g., ('apple', 'banana', 'cherry')).\n",
    "o\tConvert the tuple into a list, modify the second element, and convert it back to a tuple.\n",
    "3.\tTake a string input and print its reverse.\n",
    "'''\n",
    "lst = [1,2,3,4,5]\n",
    "print(lst[0], lst[-1])\n",
    "\n",
    "tpl = ('apple', 'banana', 'cherry')\n",
    "tpl_lst = list(tpl)\n",
    "tpl_lst[1] = \"none\"\n",
    "tpl = tuple(tpl_lst)\n",
    "print(tpl)\n",
    "\n",
    "s = \"labas\"\n",
    "print(s[::-1])\n"
   ]
  },
  {
   "cell_type": "code",
   "execution_count": 127,
   "id": "2ed7ac15-a8a1-4788-8c3d-a22ec0b002ab",
   "metadata": {},
   "outputs": [
    {
     "name": "stdout",
     "output_type": "stream",
     "text": [
      "[2, 3, 4]\n",
      "1 2 3\n",
      "aaei\n"
     ]
    }
   ],
   "source": [
    "'''\n",
    "1.\tWrite a program to:\n",
    "o\tSlice the list [1, 2, 3, 4, 5] to get [2, 3, 4].\n",
    "o\tCopy the list and append a new element to the copy.\n",
    "2.\tUnpack the tuple (1, 2, 3) into variables a, b, c.\n",
    "3.\tIterate over a string and count the vowels.\n",
    "'''\n",
    "lst = [1, 2, 3, 4, 5]\n",
    "m_lst = lst[1:4]\n",
    "print(m_lst)\n",
    "new_lst = m_lst.copy()\n",
    "new_lst[2] = 30\n",
    "m_lst\n",
    "\n",
    "tpl = (1,2,3)\n",
    "(a, b, c) = tpl\n",
    "print(a,b,c)\n",
    "\n",
    "st = \"labasei\"\n",
    "vow = \"aeiou\"\n",
    "# find = \"\"\n",
    "\n",
    "# for i in st:\n",
    "#     for j in vow:\n",
    "#         if i==j:\n",
    "#             find+=i\n",
    "# print(find)\n",
    "find = \"\".join([i for i in st if i in vow])\n",
    "print(find)"
   ]
  },
  {
   "cell_type": "code",
   "execution_count": 132,
   "id": "de8bd262-51df-4a1f-a09f-25146ca3b858",
   "metadata": {},
   "outputs": [
    {
     "name": "stdout",
     "output_type": "stream",
     "text": [
      "<class 'int'>\n"
     ]
    },
    {
     "data": {
      "text/plain": [
       "'A'"
      ]
     },
     "execution_count": 132,
     "metadata": {},
     "output_type": "execute_result"
    }
   ],
   "source": [
    "'''\n",
    "1.\tWrite a program to:\n",
    "o\tConvert the string \"Hello\" to uppercase.\n",
    "o\tCheck if \"12345\" is numeric.\n",
    "2.\tPrint the Unicode code point for the letter 'A' using ord() and convert it back using chr().\n",
    "'''\n",
    "s = \"Hello\".upper()\n",
    "s\n",
    "n = int(\"12345\")\n",
    "print(type(n))\n",
    "\n",
    "a = \"A\"\n",
    "ord(a)\n",
    "chr(65)"
   ]
  },
  {
   "cell_type": "code",
   "execution_count": 133,
   "id": "bfe8c62c-efd4-4d3b-817d-ae8302437720",
   "metadata": {},
   "outputs": [
    {
     "ename": "_IncompleteInputError",
     "evalue": "incomplete input (3857640367.py, line 1)",
     "output_type": "error",
     "traceback": [
      "\u001b[1;36m  Cell \u001b[1;32mIn[133], line 1\u001b[1;36m\u001b[0m\n\u001b[1;33m    '''\u001b[0m\n\u001b[1;37m    ^\u001b[0m\n\u001b[1;31m_IncompleteInputError\u001b[0m\u001b[1;31m:\u001b[0m incomplete input\n"
     ]
    }
   ],
   "source": [
    "'''"
   ]
  },
  {
   "cell_type": "code",
   "execution_count": 140,
   "id": "a998160a-dbc9-4e7c-b78e-a58f1a66ccbe",
   "metadata": {},
   "outputs": [
    {
     "name": "stdout",
     "output_type": "stream",
     "text": [
      "a\n",
      "{1: 'a', 2: 'b', 3: 'c', 4: 'd'}\n",
      "{1, 2, 3, 4, 5} {3}\n"
     ]
    }
   ],
   "source": [
    "'''\n",
    "1.\tCreate a dictionary of three items and:\n",
    "o\tPrint the value associated with a specific key.\n",
    "o\tAdd a new key-value pair.\n",
    "2.\tCreate two sets {1, 2, 3} and {3, 4, 5} and:\n",
    "o\tFind their union and intersection.\n",
    "'''\n",
    "d = {1:\"a\",2:\"b\",3:\"c\"}\n",
    "print(d[1])\n",
    "d[4] = \"d\"\n",
    "print(d)\n",
    "\n",
    "s1 = {1, 2, 3}\n",
    "s2 = {3, 4, 5}\n",
    "s = s1.union(s2)\n",
    "si = s1.intersection(s2)\n",
    "print(s, si)"
   ]
  },
  {
   "cell_type": "code",
   "execution_count": 145,
   "id": "f74a6763-b67d-4030-9380-708d551950d0",
   "metadata": {},
   "outputs": [
    {
     "data": {
      "text/plain": [
       "{'a', 'e'}"
      ]
     },
     "execution_count": 145,
     "metadata": {},
     "output_type": "execute_result"
    }
   ],
   "source": [
    "'''\n",
    "1.\tCreate a list comprehension to generate squares of numbers from 1 to 10.\n",
    "2.\tUse a dictionary comprehension to create a dictionary where the keys are numbers from 1 to 5, and the values are their cubes.\n",
    "3.\tUse a set comprehension to create a set of vowels from a given string.\n",
    "'''\n",
    "lst = [i**2 for i in range(1, 11)]\n",
    "lst\n",
    "dic = {i:i**3 for i in range(1,6)}\n",
    "dic\n",
    "vow = \"aeiou\" \n",
    "txt = \"labase\"\n",
    "se = {a for a in txt if a in vow}\n",
    "se"
   ]
  },
  {
   "cell_type": "code",
   "execution_count": null,
   "id": "bc53ed88-764f-46ac-8cfc-e5fcb5dd0501",
   "metadata": {},
   "outputs": [],
   "source": []
  }
 ],
 "metadata": {
  "kernelspec": {
   "display_name": "Python 3 (ipykernel)",
   "language": "python",
   "name": "python3"
  },
  "language_info": {
   "codemirror_mode": {
    "name": "ipython",
    "version": 3
   },
   "file_extension": ".py",
   "mimetype": "text/x-python",
   "name": "python",
   "nbconvert_exporter": "python",
   "pygments_lexer": "ipython3",
   "version": "3.13.0"
  }
 },
 "nbformat": 4,
 "nbformat_minor": 5
}
